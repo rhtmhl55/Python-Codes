{
 "cells": [
  {
   "cell_type": "code",
   "execution_count": 20,
   "metadata": {},
   "outputs": [
    {
     "name": "stdout",
     "output_type": "stream",
     "text": [
      "index = 0\n",
      "index = 2\n",
      "index = 4\n",
      "no of \"gfg\" in \"gfgfgfg\" = 3\n"
     ]
    }
   ],
   "source": [
    "# COUNTING OVERLAPPING SUBSTRINGS\n",
    "\n",
    "def count_ss(ss, string):\n",
    "    st = 0\n",
    "    c = 0\n",
    "    ind = 0\n",
    "    while st < len(string):\n",
    "        ind = string.find(ss,st)\n",
    "        if ind != -1:\n",
    "            print(f\"index = {ind}\")\n",
    "            st = ind+1\n",
    "            c += 1\n",
    "        else:\n",
    "            break\n",
    "    return c\n",
    "    \n",
    "string = \"gfgfgfg\"\n",
    "ss = \"gfg\"\n",
    "print(f\"no of \\\"{ss}\\\" in \\\"{string}\\\" = {count_ss(ss, string)}\")"
   ]
  }
 ],
 "metadata": {
  "kernelspec": {
   "display_name": "Python 3",
   "language": "python",
   "name": "python3"
  },
  "language_info": {
   "codemirror_mode": {
    "name": "ipython",
    "version": 3
   },
   "file_extension": ".py",
   "mimetype": "text/x-python",
   "name": "python",
   "nbconvert_exporter": "python",
   "pygments_lexer": "ipython3",
   "version": "3.8.5"
  }
 },
 "nbformat": 4,
 "nbformat_minor": 4
}
