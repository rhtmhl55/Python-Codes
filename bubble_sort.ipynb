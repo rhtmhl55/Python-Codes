{
 "cells": [
  {
   "cell_type": "code",
   "execution_count": 42,
   "metadata": {},
   "outputs": [
    {
     "name": "stdout",
     "output_type": "stream",
     "text": [
      "list BEFORE sorting : [52, 65, 53, 48, 26, 25, 96, 30, 83, 83]\n",
      "n_swaps = 20\n",
      "n_comps = 39\n",
      "list AFTER sorting : [25, 26, 30, 48, 52, 53, 65, 83, 83, 96]\n"
     ]
    }
   ],
   "source": [
    "# BUBBLE SORT\n",
    "\n",
    "import random\n",
    "\n",
    "def bubble_sort(ar):\n",
    "    n_swaps = 0\n",
    "    n_comps = 0\n",
    "\n",
    "    for i in range(len(ar)-1):\n",
    "        is_same = True\n",
    "        for j in range(len(ar)-i-1):\n",
    "            if ar[j] > ar[j+1]:\n",
    "                ar[j+1], ar[j] = ar[j], ar[j+1]\n",
    "                n_swaps += 1\n",
    "                is_same = False\n",
    "            n_comps += 1\n",
    "        if is_same:\n",
    "            break\n",
    "    print(f\"n_swaps = {n_swaps}\")\n",
    "    print(f\"n_comps = {n_comps}\")\n",
    "    return ar\n",
    "\n",
    "ar = [random.randint(0,100) for i in range(10)]\n",
    "# ar.sort()\n",
    "# ar.sort(reverse=True)\n",
    "print(f\"list BEFORE sorting : {ar}\")\n",
    "ar = bubble_sort(ar)\n",
    "print(f\"list AFTER sorting : {ar}\")\n",
    "\n"
   ]
  }
 ],
 "metadata": {
  "kernelspec": {
   "display_name": "Python 3",
   "language": "python",
   "name": "python3"
  },
  "language_info": {
   "codemirror_mode": {
    "name": "ipython",
    "version": 3
   },
   "file_extension": ".py",
   "mimetype": "text/x-python",
   "name": "python",
   "nbconvert_exporter": "python",
   "pygments_lexer": "ipython3",
   "version": "3.8.5"
  }
 },
 "nbformat": 4,
 "nbformat_minor": 4
}
