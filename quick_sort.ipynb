{
 "cells": [
  {
   "cell_type": "code",
   "execution_count": 63,
   "metadata": {},
   "outputs": [
    {
     "name": "stdout",
     "output_type": "stream",
     "text": [
      "list BEFORE sorting : [1, 57, 52, 99, 33, 27, 9, 96, 13, 85]\n",
      "list AFTER sorting = [1, 9, 13, 27, 33, 52, 57, 85, 96, 99]\n"
     ]
    }
   ],
   "source": [
    "# QUICK SORT\n",
    "\n",
    "import random\n",
    "\n",
    "def partition(st, end, ar):\n",
    "    pivot = ar[end]\n",
    "    i = st-1\n",
    "    for j in range(st,end):\n",
    "        if ar[j] < pivot:\n",
    "            i += 1\n",
    "            ar[i], ar[j] = ar[j], ar[i]\n",
    "    ar[i+1], ar[end] = ar[end], ar[i+1]\n",
    "    return i+1\n",
    "\n",
    "def quick_sort(st, end, ar):\n",
    "    if st < end:\n",
    "        q = partition(st, end, ar)\n",
    "        quick_sort(st,q-1,ar)\n",
    "        quick_sort(q+1,end,ar)\n",
    "    return ar\n",
    "\n",
    "ar = [random.randint(0,100) for i in range(10)]\n",
    "# ar.sort()\n",
    "# ar.sort(reverse=True)\n",
    "print(f\"list BEFORE sorting : {ar}\")\n",
    "print(f\"list AFTER sorting = {quick_sort(0, len(ar)-1, ar)}\")"
   ]
  }
 ],
 "metadata": {
  "kernelspec": {
   "display_name": "Python 3",
   "language": "python",
   "name": "python3"
  },
  "language_info": {
   "codemirror_mode": {
    "name": "ipython",
    "version": 3
   },
   "file_extension": ".py",
   "mimetype": "text/x-python",
   "name": "python",
   "nbconvert_exporter": "python",
   "pygments_lexer": "ipython3",
   "version": "3.8.5"
  }
 },
 "nbformat": 4,
 "nbformat_minor": 4
}
