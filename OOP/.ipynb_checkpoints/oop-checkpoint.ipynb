{
 "cells": [
  {
   "cell_type": "code",
   "execution_count": 38,
   "metadata": {},
   "outputs": [],
   "source": [
    "class Dog:\n",
    "    species = \"Canis Familiaris\"\n",
    "    sound = None\n",
    "    def __init__(self,name,age):\n",
    "        self.name = name\n",
    "        self.age = age\n",
    "    def speaks(self, sound):\n",
    "        self.sound = sound\n",
    "        print(f\"{self.name} says \\\"{self.sound}\\\".\")\n",
    "    def __str__(self):\n",
    "        return f\"{self.name} is {self.age} years old {self.species}.\""
   ]
  },
  {
   "cell_type": "code",
   "execution_count": 39,
   "metadata": {},
   "outputs": [
    {
     "name": "stdout",
     "output_type": "stream",
     "text": [
      "name : Tommy\n",
      "age : 4\n",
      "species : Canis Familiaris\n",
      "Tommy says \"woof woof\".\n",
      "Tommy is 4 years old Canis Familiaris.\n"
     ]
    }
   ],
   "source": [
    "tommy = Dog(\"Tommy\", 4)\n",
    "print(f\"name : {tommy.name}\")\n",
    "print(f\"age : {tommy.age}\")\n",
    "print(f\"species : {tommy.species}\")\n",
    "tommy.speaks(\"woof woof\")\n",
    "print(tommy)"
   ]
  },
  {
   "cell_type": "code",
   "execution_count": 41,
   "metadata": {},
   "outputs": [
    {
     "name": "stdout",
     "output_type": "stream",
     "text": [
      "name : Maddy\n",
      "age : 5\n",
      "species : Canis Familiaris\n",
      "Maddy says \"bhaw bhaw\".\n",
      "Maddy is 5 years old Canis Familiaris.\n"
     ]
    }
   ],
   "source": [
    "maddy = Dog(\"Maddy\", 5)\n",
    "print(f\"name : {maddy.name}\")\n",
    "print(f\"age : {maddy.age}\")\n",
    "print(f\"species : {maddy.species}\")\n",
    "maddy.speaks(\"bhaw bhaw\")\n",
    "print(maddy)"
   ]
  }
 ],
 "metadata": {
  "kernelspec": {
   "display_name": "Python 3",
   "language": "python",
   "name": "python3"
  },
  "language_info": {
   "codemirror_mode": {
    "name": "ipython",
    "version": 3
   },
   "file_extension": ".py",
   "mimetype": "text/x-python",
   "name": "python",
   "nbconvert_exporter": "python",
   "pygments_lexer": "ipython3",
   "version": "3.8.5"
  }
 },
 "nbformat": 4,
 "nbformat_minor": 4
}
