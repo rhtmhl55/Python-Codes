{
 "cells": [
  {
   "cell_type": "markdown",
   "metadata": {},
   "source": [
    "# Class"
   ]
  },
  {
   "cell_type": "code",
   "execution_count": 85,
   "metadata": {},
   "outputs": [],
   "source": [
    "class Dog:\n",
    "    species = \"Canis Familiaris\"\n",
    "    def __init__(self,name,age):\n",
    "        self.name = name\n",
    "        self.age = age\n",
    "    def speaks(self, sound):\n",
    "        print(f\"{self.name} barks : \\\"{sound}\\\".\")\n",
    "    def __str__(self):\n",
    "        return f\"{self.name} is {self.age} years old {self.species}.\""
   ]
  },
  {
   "cell_type": "code",
   "execution_count": 86,
   "metadata": {},
   "outputs": [
    {
     "name": "stdout",
     "output_type": "stream",
     "text": [
      "<class '__main__.Dog'>\n",
      "<class 'type'>\n"
     ]
    }
   ],
   "source": [
    "print(Dog)\n",
    "print(type(Dog))"
   ]
  },
  {
   "cell_type": "code",
   "execution_count": 87,
   "metadata": {},
   "outputs": [
    {
     "name": "stdout",
     "output_type": "stream",
     "text": [
      "name : Tommy\n",
      "age : 4\n",
      "species : Canis Familiaris\n",
      "Tommy barks : \"woof woof\".\n",
      "Tommy is 4 years old Canis Familiaris.\n"
     ]
    }
   ],
   "source": [
    "tommy = Dog(\"Tommy\", 4)\n",
    "print(f\"name : {tommy.name}\")\n",
    "print(f\"age : {tommy.age}\")\n",
    "print(f\"species : {tommy.species}\")\n",
    "tommy.speaks(\"woof woof\")\n",
    "print(tommy)"
   ]
  },
  {
   "cell_type": "code",
   "execution_count": 88,
   "metadata": {},
   "outputs": [
    {
     "name": "stdout",
     "output_type": "stream",
     "text": [
      "Tommy is 4 years old Canis Familiaris.\n",
      "<class '__main__.Dog'>\n"
     ]
    }
   ],
   "source": [
    "print(tommy)\n",
    "print(type(tommy))"
   ]
  },
  {
   "cell_type": "code",
   "execution_count": 89,
   "metadata": {
    "scrolled": true
   },
   "outputs": [
    {
     "name": "stdout",
     "output_type": "stream",
     "text": [
      "name : Maddy\n",
      "age : 5\n",
      "species : Canis Familiaris\n",
      "Maddy barks : \"bhaw bhaw\".\n",
      "Maddy is 5 years old Canis Familiaris.\n"
     ]
    }
   ],
   "source": [
    "maddy = Dog(\"Maddy\", 5)\n",
    "print(f\"name : {maddy.name}\")\n",
    "print(f\"age : {maddy.age}\")\n",
    "print(f\"species : {maddy.species}\")\n",
    "maddy.speaks(\"bhaw bhaw\")\n",
    "print(maddy)"
   ]
  },
  {
   "cell_type": "code",
   "execution_count": 90,
   "metadata": {},
   "outputs": [
    {
     "name": "stdout",
     "output_type": "stream",
     "text": [
      "Maddy is 5 years old Felis catus.\n",
      "Maddy barks : \"meow meow\".\n"
     ]
    }
   ],
   "source": [
    "maddy.species = \"Felis catus\"\n",
    "print(maddy)\n",
    "maddy.speaks(\"meow meow\")"
   ]
  },
  {
   "cell_type": "markdown",
   "metadata": {},
   "source": [
    "# Inheritance"
   ]
  },
  {
   "cell_type": "code",
   "execution_count": 91,
   "metadata": {},
   "outputs": [],
   "source": [
    "class SiberianHusky(Dog):\n",
    "    def speaks(self, sound=\"arf arf\"): # FUNCTION OVERRIDING\n",
    "        print(f\"{self.name} says \\\"{sound}\\\".\")"
   ]
  },
  {
   "cell_type": "code",
   "execution_count": 92,
   "metadata": {},
   "outputs": [
    {
     "name": "stdout",
     "output_type": "stream",
     "text": [
      "name : Lucy\n",
      "age : 5\n",
      "species : Canis Familiaris\n",
      "Lucy says \"arf arf\".\n",
      "Lucy says \"grr grr\".\n",
      "Lucy is 5 years old Canis Familiaris.\n"
     ]
    }
   ],
   "source": [
    "lucy = SiberianHusky(\"Lucy\",5)\n",
    "print(f\"name : {lucy.name}\")\n",
    "print(f\"age : {lucy.age}\")\n",
    "print(f\"species : {lucy.species}\")\n",
    "lucy.speaks()\n",
    "lucy.speaks(\"grr grr\")\n",
    "print(lucy)"
   ]
  },
  {
   "cell_type": "code",
   "execution_count": 93,
   "metadata": {},
   "outputs": [
    {
     "name": "stdout",
     "output_type": "stream",
     "text": [
      "Lucy is 5 years old Canis Familiaris.\n",
      "<class '__main__.SiberianHusky'>\n",
      "isinstance(lucy, SiberianHusky) : True\n",
      "isinstance(lucy, Dog) : True\n"
     ]
    }
   ],
   "source": [
    "print(lucy)\n",
    "print(type(lucy))\n",
    "print(f\"isinstance(lucy, SiberianHusky) : {isinstance(lucy, SiberianHusky)}\")\n",
    "print(f\"isinstance(lucy, Dog) : {isinstance(lucy, Dog)}\")"
   ]
  },
  {
   "cell_type": "markdown",
   "metadata": {},
   "source": [
    "# Use of super"
   ]
  },
  {
   "cell_type": "code",
   "execution_count": 94,
   "metadata": {},
   "outputs": [],
   "source": [
    "class GoldenRetriever(Dog):\n",
    "    def speaks(self, sound=\"chap chap\"): # FUNCTION OVERRIDING\n",
    "        super().speaks(sound)"
   ]
  },
  {
   "cell_type": "code",
   "execution_count": 97,
   "metadata": {},
   "outputs": [
    {
     "name": "stdout",
     "output_type": "stream",
     "text": [
      "name : Molly\n",
      "age : 6\n",
      "species : Canis Familiaris\n",
      "Molly barks : \"chap chap\".\n",
      "Molly barks : \"grr grr\".\n",
      "Molly is 6 years old Canis Familiaris.\n"
     ]
    }
   ],
   "source": [
    "molly = GoldenRetriever(\"Molly\",6)\n",
    "print(f\"name : {molly.name}\")\n",
    "print(f\"age : {molly.age}\")\n",
    "print(f\"species : {molly.species}\")\n",
    "molly.speaks()\n",
    "molly.speaks(\"grr grr\")\n",
    "print(molly)"
   ]
  },
  {
   "cell_type": "code",
   "execution_count": 99,
   "metadata": {},
   "outputs": [
    {
     "name": "stdout",
     "output_type": "stream",
     "text": [
      "Molly is 6 years old Canis Familiaris.\n",
      "<class '__main__.GoldenRetriever'>\n",
      "isinstance(molly, GoldenRetriever) : True\n",
      "isinstance(molly, SiberianHusky) : False\n",
      "isinstance(molly, Dog) : True\n"
     ]
    }
   ],
   "source": [
    "print(molly)\n",
    "print(type(molly))\n",
    "print(f\"isinstance(molly, GoldenRetriever) : {isinstance(molly, GoldenRetriever)}\")\n",
    "print(f\"isinstance(molly, SiberianHusky) : {isinstance(molly, SiberianHusky)}\")\n",
    "print(f\"isinstance(molly, Dog) : {isinstance(molly, Dog)}\")"
   ]
  }
 ],
 "metadata": {
  "kernelspec": {
   "display_name": "Python 3",
   "language": "python",
   "name": "python3"
  },
  "language_info": {
   "codemirror_mode": {
    "name": "ipython",
    "version": 3
   },
   "file_extension": ".py",
   "mimetype": "text/x-python",
   "name": "python",
   "nbconvert_exporter": "python",
   "pygments_lexer": "ipython3",
   "version": "3.8.5"
  }
 },
 "nbformat": 4,
 "nbformat_minor": 4
}
