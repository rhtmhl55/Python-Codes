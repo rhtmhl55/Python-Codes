{
 "cells": [
  {
   "cell_type": "code",
   "execution_count": 70,
   "metadata": {},
   "outputs": [
    {
     "name": "stdout",
     "output_type": "stream",
     "text": [
      "list : [0, 2, 14, 25, 26, 28]\n",
      "key = 14\n",
      "14 is at index 2\n"
     ]
    }
   ],
   "source": [
    "# BINARY SEARCH (RECURSIVE)\n",
    "\n",
    "import random\n",
    "\n",
    "def binary_search(key, st, end, ar):\n",
    "    if st <= end:\n",
    "        mid = (st+end)//2\n",
    "        if ar[mid] == key:\n",
    "            return mid\n",
    "        if ar[mid] > key:\n",
    "            return binary_search(key,st,mid-1,ar)\n",
    "        return binary_search(key,mid+1,end,ar)\n",
    "    return -1\n",
    "\n",
    "ar = [random.randint(0,30) for i in range(5)]\n",
    "key = random.randint(0,30)\n",
    "ar.append(key)\n",
    "ar.sort()\n",
    "# ar.sort()\n",
    "# ar.sort(reverse=True)\n",
    "print(f\"list : {ar}\")\n",
    "# key = 45\n",
    "print(f\"key = {key}\")\n",
    "key_ind = binary_search(key,0,len(ar)-1,ar)\n",
    "if key_ind != -1:\n",
    "    print(f\"{key} is at index {key_ind}\")\n",
    "else:\n",
    "    print(f\"{key} is not in the list\")"
   ]
  },
  {
   "cell_type": "code",
   "execution_count": 18,
   "metadata": {},
   "outputs": [
    {
     "name": "stdout",
     "output_type": "stream",
     "text": [
      "list : [6, 12, 22, 25, 27, 28]\n",
      "key = 25\n",
      "25 is at index 3\n"
     ]
    }
   ],
   "source": [
    "# BINARY SEARCH (ITERATIVE)\n",
    "\n",
    "import random\n",
    "\n",
    "def binary_search(key, st, end, ar):\n",
    "    while st <= end:\n",
    "        mid = (st+end)//2\n",
    "        if ar[mid] == key:\n",
    "            return mid\n",
    "        if ar[mid] > key:\n",
    "            end = mid-1\n",
    "        else:\n",
    "            st = mid+1\n",
    "    return -1\n",
    "\n",
    "ar = [random.randint(0,30) for i in range(5)]\n",
    "key = random.randint(0,30)\n",
    "ar.append(key)\n",
    "ar.sort()\n",
    "# ar.sort()\n",
    "# ar.sort(reverse=True)\n",
    "print(f\"list : {ar}\")\n",
    "# key = 45\n",
    "print(f\"key = {key}\")\n",
    "key_ind = binary_search(key,0,len(ar)-1,ar)\n",
    "if key_ind != -1:\n",
    "    print(f\"{key} is at index {key_ind}\")\n",
    "else:\n",
    "    print(f\"{key} is not in the list\")"
   ]
  }
 ],
 "metadata": {
  "kernelspec": {
   "display_name": "Python 3",
   "language": "python",
   "name": "python3"
  },
  "language_info": {
   "codemirror_mode": {
    "name": "ipython",
    "version": 3
   },
   "file_extension": ".py",
   "mimetype": "text/x-python",
   "name": "python",
   "nbconvert_exporter": "python",
   "pygments_lexer": "ipython3",
   "version": "3.8.5"
  }
 },
 "nbformat": 4,
 "nbformat_minor": 4
}
