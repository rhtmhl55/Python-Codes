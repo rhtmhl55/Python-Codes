{
 "cells": [
  {
   "cell_type": "code",
   "execution_count": 1,
   "metadata": {},
   "outputs": [],
   "source": [
    "f = open('file1.txt', 'w')\n",
    "f.write('This is the first sentence of the file. And this one is the second.\\n')\n",
    "f.write('This is the second line of the file.\\n')\n",
    "f.close()"
   ]
  },
  {
   "cell_type": "code",
   "execution_count": 2,
   "metadata": {},
   "outputs": [],
   "source": [
    "f = open('file1.txt', 'a')\n",
    "f.write('This is the fourth sentence of the file. And this one is the fifth.\\n')\n",
    "f.write('This is the fourth line of the file.\\n')\n",
    "f.close()"
   ]
  },
  {
   "cell_type": "code",
   "execution_count": 3,
   "metadata": {},
   "outputs": [
    {
     "name": "stdout",
     "output_type": "stream",
     "text": [
      "This is the first sentence of the file. And this one is the second.\n",
      "This is the second line of the file.\n",
      "This is the fourth sentence of the file. And this one is the fifth.\n",
      "This is the fourth line of the file.\n"
     ]
    }
   ],
   "source": [
    "f = open('file1.txt', 'r')\n",
    "for line in f:\n",
    "    print(line,end=\"\")\n",
    "f.close()"
   ]
  },
  {
   "cell_type": "code",
   "execution_count": 4,
   "metadata": {},
   "outputs": [
    {
     "name": "stdout",
     "output_type": "stream",
     "text": [
      "<class 'str'>\n",
      "This is the first sentence of the file. And this one is the second.\n",
      "This is the second line of the file.\n",
      "This is the fourth sentence of the file. And this one is the fifth.\n",
      "This is the fourth line of the file.\n",
      "\n"
     ]
    }
   ],
   "source": [
    "f = open('file1.txt', 'r')\n",
    "# print(f.read())\n",
    "data = f.read()\n",
    "print(type(data))\n",
    "print(data)\n",
    "f.close()"
   ]
  },
  {
   "cell_type": "code",
   "execution_count": 5,
   "metadata": {},
   "outputs": [
    {
     "name": "stdout",
     "output_type": "stream",
     "text": [
      "This is th\n"
     ]
    }
   ],
   "source": [
    "f = open('file1.txt', 'r')\n",
    "print(f.read(10)) # read first 10 characters\n",
    "f.close()"
   ]
  },
  {
   "cell_type": "code",
   "execution_count": 6,
   "metadata": {},
   "outputs": [],
   "source": [
    "def printFileInfo(filename):\n",
    "    f = open(filename, 'r')\n",
    "    n_lines = 0\n",
    "    n_words = 0\n",
    "    n_chars = 0\n",
    "    for line in f:\n",
    "        n_lines += 1\n",
    "        n_words += len(line.split())\n",
    "        n_chars += len(line)\n",
    "    # print(len(f)) #error since file object has no len() attribute\n",
    "    print(f\"f.tell() : {f.tell()}\")\n",
    "    f.seek(0,0) # fileobject.seek(offset,from)\n",
    "    print(f\"f.tell() : {f.tell()}\\n\")\n",
    "    print(f\"content:\\n{f.read()}\")\n",
    "    f.close()\n",
    "    print(f\"no. of lines : {n_lines}\")\n",
    "    print(f\"no. of words : {n_words}\")\n",
    "    print(f\"no. of characters : {n_chars}\")"
   ]
  },
  {
   "cell_type": "code",
   "execution_count": 7,
   "metadata": {},
   "outputs": [
    {
     "name": "stdout",
     "output_type": "stream",
     "text": [
      "f.tell() : 214\n",
      "f.tell() : 0\n",
      "\n",
      "content:\n",
      "This is the first sentence of the file. And this one is the second.\n",
      "This is the second line of the file.\n",
      "This is the fourth sentence of the file. And this one is the fifth.\n",
      "This is the fourth line of the file.\n",
      "\n",
      "no. of lines : 4\n",
      "no. of words : 44\n",
      "no. of characters : 210\n"
     ]
    }
   ],
   "source": [
    "printFileInfo('file1.txt')"
   ]
  },
  {
   "cell_type": "code",
   "execution_count": 8,
   "metadata": {},
   "outputs": [],
   "source": [
    "with open('file1.txt','a') as f:   \n",
    "    f.write('This is the fifth line of the file.\\n')"
   ]
  },
  {
   "cell_type": "code",
   "execution_count": 9,
   "metadata": {},
   "outputs": [
    {
     "name": "stdout",
     "output_type": "stream",
     "text": [
      "f.tell() : 251\n",
      "f.tell() : 0\n",
      "\n",
      "content:\n",
      "This is the first sentence of the file. And this one is the second.\n",
      "This is the second line of the file.\n",
      "This is the fourth sentence of the file. And this one is the fifth.\n",
      "This is the fourth line of the file.\n",
      "This is the fifth line of the file.\n",
      "\n",
      "no. of lines : 5\n",
      "no. of words : 52\n",
      "no. of characters : 246\n"
     ]
    }
   ],
   "source": [
    "printFileInfo('file1.txt')"
   ]
  },
  {
   "cell_type": "code",
   "execution_count": 10,
   "metadata": {
    "scrolled": true
   },
   "outputs": [],
   "source": [
    "# with open('file1.txt','r') as f:   \n",
    "#     data = f.read()\n",
    "# print(data)"
   ]
  },
  {
   "cell_type": "code",
   "execution_count": 11,
   "metadata": {},
   "outputs": [
    {
     "data": {
      "text/plain": [
       "'Files\\\\file1.txt'"
      ]
     },
     "execution_count": 11,
     "metadata": {},
     "output_type": "execute_result"
    }
   ],
   "source": [
    "import os\n",
    "import shutil\n",
    "os.mkdir(\"Files\")\n",
    "shutil.move(\"file1.txt\",\"Files\")"
   ]
  },
  {
   "cell_type": "code",
   "execution_count": null,
   "metadata": {},
   "outputs": [],
   "source": []
  }
 ],
 "metadata": {
  "kernelspec": {
   "display_name": "Python 3",
   "language": "python",
   "name": "python3"
  },
  "language_info": {
   "codemirror_mode": {
    "name": "ipython",
    "version": 3
   },
   "file_extension": ".py",
   "mimetype": "text/x-python",
   "name": "python",
   "nbconvert_exporter": "python",
   "pygments_lexer": "ipython3",
   "version": "3.8.5"
  }
 },
 "nbformat": 4,
 "nbformat_minor": 4
}
