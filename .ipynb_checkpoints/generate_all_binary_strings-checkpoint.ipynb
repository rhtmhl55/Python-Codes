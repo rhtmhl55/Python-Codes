{
 "cells": [
  {
   "cell_type": "code",
   "execution_count": 1,
   "metadata": {
    "scrolled": true
   },
   "outputs": [
    {
     "name": "stdout",
     "output_type": "stream",
     "text": [
      "4\n",
      "0000 0001 0010 0011 0100 0101 0110 0111 1000 1001 1010 1011 1100 1101 1110 1111 "
     ]
    }
   ],
   "source": [
    "def intToBin(n):\n",
    "    s = \"\"\n",
    "    while n != 0:\n",
    "        s += (str(n%2))\n",
    "        n //= 2\n",
    "    s = \"\".join(reversed(s))\n",
    "    return s\n",
    "\n",
    "n = int(input())\n",
    "for i in range(2**n):\n",
    "    s=intToBin(i)\n",
    "    if len(s) != n:\n",
    "        s = '0'*(n-len(s)) + s\n",
    "    print(s,end=\" \")"
   ]
  },
  {
   "cell_type": "code",
   "execution_count": 19,
   "metadata": {},
   "outputs": [
    {
     "name": "stdout",
     "output_type": "stream",
     "text": [
      "3\n",
      "['000', '001', '010', '011', '100', '101', '110', '111']\n"
     ]
    }
   ],
   "source": [
    "def f2(bit, list):\n",
    "#     for ind in range(len(list)):\n",
    "#         list[ind] = bit + list[ind]\n",
    "#     return list\n",
    "    return [bit + el for el in list]\n",
    "\n",
    "def f1(n):\n",
    "    if n == 0:\n",
    "        return []\n",
    "    if n == 1:\n",
    "        return ['0','1']\n",
    "    return (f2('0',f1(n-1)) + f2('1',f1(n-1)))\n",
    "\n",
    "n = int(input())\n",
    "print(f1(n))"
   ]
  },
  {
   "cell_type": "code",
   "execution_count": null,
   "metadata": {},
   "outputs": [],
   "source": []
  }
 ],
 "metadata": {
  "kernelspec": {
   "display_name": "Python 3",
   "language": "python",
   "name": "python3"
  },
  "language_info": {
   "codemirror_mode": {
    "name": "ipython",
    "version": 3
   },
   "file_extension": ".py",
   "mimetype": "text/x-python",
   "name": "python",
   "nbconvert_exporter": "python",
   "pygments_lexer": "ipython3",
   "version": "3.8.5"
  }
 },
 "nbformat": 4,
 "nbformat_minor": 4
}
