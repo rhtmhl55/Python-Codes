{
 "cells": [
  {
   "cell_type": "code",
   "execution_count": 12,
   "metadata": {},
   "outputs": [
    {
     "name": "stdout",
     "output_type": "stream",
     "text": [
      "pos = 0\n",
      "pos = 1\n",
      "pos = 2\n",
      "all indices of aa in aaaa =  0 1 2\n"
     ]
    }
   ],
   "source": [
    "def all_ss_in_s(str,substr):\n",
    "    st = pos = 0\n",
    "    ss_ind = []\n",
    "    while st < len(str):\n",
    "        pos = str.find(substr,st)\n",
    "        if pos >= 0:\n",
    "            print(f\"pos = {pos}\")\n",
    "            ss_ind.append(pos)\n",
    "            st = pos + 1\n",
    "        else:\n",
    "            break\n",
    "    return ss_ind\n",
    "\n",
    "str = \"aaaa\"\n",
    "substr = \"aa\"\n",
    "ss_ind = all_ss_in_s(str,substr)\n",
    "print(f\"all indices of {substr} in {str} = \", *ss_ind)"
   ]
  },
  {
   "cell_type": "code",
   "execution_count": 15,
   "metadata": {},
   "outputs": [
    {
     "name": "stdout",
     "output_type": "stream",
     "text": [
      "pos = 0\n",
      "pos = 1\n",
      "pos = 2\n",
      "all indices of aa in aaaa =  0 1 2\n"
     ]
    }
   ],
   "source": [
    "def all_ss_in_s(str,substr):\n",
    "    st = 0\n",
    "    ss_ind = []\n",
    "    while True:\n",
    "        st = str.find(substr,st)+1\n",
    "        if st > 0:\n",
    "            print(f\"pos = {st-1}\")\n",
    "            ss_ind.append(st-1)\n",
    "        else:\n",
    "            return ss_ind\n",
    "\n",
    "str = \"aaaa\"\n",
    "substr = \"aa\"\n",
    "ss_ind = all_ss_in_s(str,substr)\n",
    "print(f\"all indices of {substr} in {str} = \", *ss_ind)"
   ]
  }
 ],
 "metadata": {
  "kernelspec": {
   "display_name": "Python 3",
   "language": "python",
   "name": "python3"
  },
  "language_info": {
   "codemirror_mode": {
    "name": "ipython",
    "version": 3
   },
   "file_extension": ".py",
   "mimetype": "text/x-python",
   "name": "python",
   "nbconvert_exporter": "python",
   "pygments_lexer": "ipython3",
   "version": "3.8.5"
  }
 },
 "nbformat": 4,
 "nbformat_minor": 4
}
