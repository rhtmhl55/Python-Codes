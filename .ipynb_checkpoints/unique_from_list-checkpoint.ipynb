{
 "cells": [
  {
   "cell_type": "code",
   "execution_count": 11,
   "metadata": {},
   "outputs": [
    {
     "name": "stdout",
     "output_type": "stream",
     "text": [
      "list = \n",
      "[1, 0, 5, 3, 0, 1, 1, 5, 2, 0]\n",
      "unique list = \n",
      "[1, 0, 5, 3, 2]\n"
     ]
    }
   ],
   "source": [
    "# CONVERTING LIST TO UNIQUE LIST\n",
    "\n",
    "import random\n",
    "\n",
    "def unique_from_list(lst):\n",
    "    st = set()\n",
    "#     return [item for item in lst if not (item in st or st.add(item))]\n",
    "    return [item for item in lst if item not in st and st.add(item)==None]\n",
    "    \n",
    "    \n",
    "lst = [random.randint(0,5) for i in range(10)]\n",
    "print(f\"list = \\n{lst}\")\n",
    "un_lst = unique_from_list(lst)\n",
    "print(f\"unique list = \\n{un_lst}\")"
   ]
  },
  {
   "cell_type": "code",
   "execution_count": 8,
   "metadata": {},
   "outputs": [
    {
     "name": "stdout",
     "output_type": "stream",
     "text": [
      "list = ['m', 'i', 's', 's', 'i', 's', 's', 'i', 'p', 'p', 'i']\n",
      "set = {'i', 's', 'm', 'p'}\n",
      "\n",
      "ord_dict = OrderedDict([('m', None), ('i', None), ('s', None), ('p', None)])\n",
      "\n",
      "type(ord_keys) : <class 'odict_keys'>\n",
      "ord_keys : odict_keys(['m', 'i', 's', 'p'])\n",
      "\n",
      "type(ord_list) : <class 'list'>\n",
      "ord_list : ['m', 'i', 's', 'p']\n",
      "\n"
     ]
    }
   ],
   "source": [
    "# CONVERTING LIST TO UNIQUE LIST\n",
    "\n",
    "from collections import OrderedDict\n",
    "\n",
    "lst = list('mississippi')\n",
    "print(f\"list = {lst}\")\n",
    "st = set(lst) #unordered\n",
    "print(f\"set = {st}\\n\")\n",
    "\n",
    "ord_dict = OrderedDict()\n",
    "for i in lst:\n",
    "    ord_dict[i] = None\n",
    "print(f\"ord_dict = {ord_dict}\\n\")\n",
    "\n",
    "ord_keys = ord_dict.keys()\n",
    "print(f\"type(ord_keys) : {type(ord_keys)}\")\n",
    "print(f\"ord_keys : {ord_keys}\\n\")\n",
    "\n",
    "ord_list = list(ord_keys)\n",
    "print(f\"type(ord_list) : {type(ord_list)}\")\n",
    "print(f\"ord_list : {ord_list}\\n\")"
   ]
  }
 ],
 "metadata": {
  "kernelspec": {
   "display_name": "Python 3",
   "language": "python",
   "name": "python3"
  },
  "language_info": {
   "codemirror_mode": {
    "name": "ipython",
    "version": 3
   },
   "file_extension": ".py",
   "mimetype": "text/x-python",
   "name": "python",
   "nbconvert_exporter": "python",
   "pygments_lexer": "ipython3",
   "version": "3.8.5"
  }
 },
 "nbformat": 4,
 "nbformat_minor": 4
}
