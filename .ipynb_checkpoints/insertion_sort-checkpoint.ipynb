{
 "cells": [
  {
   "cell_type": "code",
   "execution_count": 59,
   "metadata": {},
   "outputs": [
    {
     "name": "stdout",
     "output_type": "stream",
     "text": [
      "list BEFORE sorting : [24, 19, 19, 22, 17, 23, 21, 24, 12, 6]\n",
      "list AFTER sorting : [6, 12, 17, 19, 19, 21, 22, 23, 24, 24]\n"
     ]
    }
   ],
   "source": [
    "# INSERTION SORT\n",
    "\n",
    "import random\n",
    "\n",
    "def insertion_sort(ar):\n",
    "    for j in range(1,len(ar)):\n",
    "        i = j-1\n",
    "        key = ar[j]\n",
    "        while i >=0 and ar[i] > key:\n",
    "            ar[i+1], ar[i] = ar[i], ar[i+1]\n",
    "            i -= 1\n",
    "        ar[i+1] = key       \n",
    "    return ar\n",
    "\n",
    "ar = [random.randint(0,30) for i in range(10)]\n",
    "# ar.sort()\n",
    "# ar.sort(reverse=True)\n",
    "print(f\"list BEFORE sorting : {ar}\")\n",
    "ar = insertion_sort(ar)\n",
    "print(f\"list AFTER sorting : {ar}\")\n"
   ]
  }
 ],
 "metadata": {
  "kernelspec": {
   "display_name": "Python 3",
   "language": "python",
   "name": "python3"
  },
  "language_info": {
   "codemirror_mode": {
    "name": "ipython",
    "version": 3
   },
   "file_extension": ".py",
   "mimetype": "text/x-python",
   "name": "python",
   "nbconvert_exporter": "python",
   "pygments_lexer": "ipython3",
   "version": "3.8.5"
  }
 },
 "nbformat": 4,
 "nbformat_minor": 4
}
