{
 "cells": [
  {
   "cell_type": "code",
   "execution_count": 37,
   "metadata": {},
   "outputs": [
    {
     "name": "stdout",
     "output_type": "stream",
     "text": [
      "list BEFORE sorting : [9, 73, 84, 654, 661, 731, 737, 741, 758, 774]\n",
      "n_swaps = 0\n",
      "n_comps = 9\n",
      "list AFTER sorting : [9, 73, 84, 654, 661, 731, 737, 741, 758, 774]\n"
     ]
    }
   ],
   "source": [
    "# BUBBLE SORT\n",
    "\n",
    "import random\n",
    "\n",
    "def bubble_sort(lst):\n",
    "    n_swaps = 0\n",
    "    n_comps = 0\n",
    "\n",
    "    for i in range(len(lst)-1):\n",
    "        is_same = True\n",
    "        for j in range(len(lst)-i-1):\n",
    "            if lst[j] > lst[j+1]:\n",
    "                lst[j+1], lst[j] = lst[j], lst[j+1]\n",
    "                n_swaps += 1\n",
    "                is_same = False\n",
    "            n_comps += 1\n",
    "        if is_same:\n",
    "            break\n",
    "    print(f\"n_swaps = {n_swaps}\")\n",
    "    print(f\"n_comps = {n_comps}\")\n",
    "    return lst\n",
    "\n",
    "lst = [random.randint(0,1000) for i in range(10)]\n",
    "# lst.sort()\n",
    "# lst.sort(reverse=True)\n",
    "print(f\"list BEFORE sorting : {lst}\")\n",
    "lst = bubble_sort(lst)\n",
    "print(f\"list AFTER sorting : {lst}\")\n",
    "\n"
   ]
  }
 ],
 "metadata": {
  "kernelspec": {
   "display_name": "Python 3",
   "language": "python",
   "name": "python3"
  },
  "language_info": {
   "codemirror_mode": {
    "name": "ipython",
    "version": 3
   },
   "file_extension": ".py",
   "mimetype": "text/x-python",
   "name": "python",
   "nbconvert_exporter": "python",
   "pygments_lexer": "ipython3",
   "version": "3.8.5"
  }
 },
 "nbformat": 4,
 "nbformat_minor": 4
}
