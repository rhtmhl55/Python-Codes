{
 "cells": [
  {
   "cell_type": "code",
   "execution_count": 27,
   "metadata": {},
   "outputs": [
    {
     "name": "stdout",
     "output_type": "stream",
     "text": [
      "list BEFORE sorting : [17, 7, 2, 3, 12, 16, 6, 18, 11, 5]\n",
      "list AFTER sorting = [2, 3, 5, 6, 7, 11, 12, 16, 17, 18]\n"
     ]
    }
   ],
   "source": [
    "# MERGE SORT\n",
    "\n",
    "import random\n",
    "\n",
    "def merge(st, mid, end, ar):\n",
    "    left = []\n",
    "    right = []\n",
    "    for i in range(st,mid+1):\n",
    "        left.append(ar[i])\n",
    "    for i in range(mid+1,end+1):\n",
    "        right.append(ar[i])\n",
    "    n_l = len(left)\n",
    "    n_r = len(right)\n",
    "    i = j = 0\n",
    "    k = st\n",
    "    while i < n_l and j < n_r:\n",
    "        if left[i] < right[j]:\n",
    "            ar[k] = left[i]\n",
    "            k += 1\n",
    "            i += 1\n",
    "        else:\n",
    "            ar[k] = right[j]\n",
    "            k += 1\n",
    "            j += 1\n",
    "    while i < n_l:\n",
    "        ar[k] = left[i]\n",
    "        k += 1\n",
    "        i += 1\n",
    "    while j < n_r:\n",
    "        ar[k] = right[j]\n",
    "        k += 1\n",
    "        j += 1\n",
    "    return ar\n",
    "\n",
    "def merge_sort(st, end, ar):\n",
    "    if st < end:\n",
    "        mid = (st+end)//2\n",
    "        merge_sort(st,mid,ar)\n",
    "        merge_sort(mid+1,end,ar)\n",
    "        merge(st, mid, end, ar)\n",
    "    return ar\n",
    "\n",
    "ar = [random.randint(0,20) for i in range(10)]\n",
    "# ar.sort()\n",
    "# ar.sort(reverse=True)\n",
    "print(f\"list BEFORE sorting : {ar}\")\n",
    "print(f\"list AFTER sorting = {merge_sort(0, len(ar)-1, ar)}\")"
   ]
  }
 ],
 "metadata": {
  "kernelspec": {
   "display_name": "Python 3",
   "language": "python",
   "name": "python3"
  },
  "language_info": {
   "codemirror_mode": {
    "name": "ipython",
    "version": 3
   },
   "file_extension": ".py",
   "mimetype": "text/x-python",
   "name": "python",
   "nbconvert_exporter": "python",
   "pygments_lexer": "ipython3",
   "version": "3.8.5"
  }
 },
 "nbformat": 4,
 "nbformat_minor": 4
}
