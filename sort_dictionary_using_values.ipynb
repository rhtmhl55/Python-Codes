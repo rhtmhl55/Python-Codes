{
 "cells": [
  {
   "cell_type": "code",
   "execution_count": 7,
   "metadata": {},
   "outputs": [
    {
     "name": "stdout",
     "output_type": "stream",
     "text": [
      "[2, 3, 4, 1]\n",
      "{2: 'b', 3: 'f', 4: 'q', 1: 's'}\n"
     ]
    }
   ],
   "source": [
    "dict = {1: 's', 2: 'b', 3: 'f', 4: 'q'}\n",
    "sorted_dict = {}\n",
    "sorted_keys = sorted(dict, key=dict.get)\n",
    "print(sorted_keys)\n",
    "\n",
    "for w in sorted_keys:\n",
    "    sorted_dict[w] = dict[w]\n",
    "\n",
    "print(sorted_dict)"
   ]
  },
  {
   "cell_type": "code",
   "execution_count": 8,
   "metadata": {},
   "outputs": [
    {
     "name": "stdout",
     "output_type": "stream",
     "text": [
      "sorted_tuple_list : [(2, 'b'), (3, 'f'), (4, 'q'), (1, 's')]\n",
      "sorted_dict : {2: 'b', 3: 'f', 4: 'q', 1: 's'}\n"
     ]
    }
   ],
   "source": [
    "dict = {1: 's', 2: 'b', 3: 'f', 4: 'q'}\n",
    "sorted_tuple_list = sorted(dict.items(), key= lambda item: item[1])\n",
    "print(f\"sorted_tuple_list : {sorted_tuple_list}\")\n",
    "sorted_dict = {}\n",
    "for k, v in sorted_tuple_list:\n",
    "    sorted_dict[k] = v\n",
    "print(f\"sorted_dict : {sorted_dict}\")"
   ]
  }
 ],
 "metadata": {
  "kernelspec": {
   "display_name": "Python 3",
   "language": "python",
   "name": "python3"
  },
  "language_info": {
   "codemirror_mode": {
    "name": "ipython",
    "version": 3
   },
   "file_extension": ".py",
   "mimetype": "text/x-python",
   "name": "python",
   "nbconvert_exporter": "python",
   "pygments_lexer": "ipython3",
   "version": "3.8.5"
  }
 },
 "nbformat": 4,
 "nbformat_minor": 4
}
